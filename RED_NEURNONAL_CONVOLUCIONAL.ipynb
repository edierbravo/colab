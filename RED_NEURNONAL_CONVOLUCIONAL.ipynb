{
  "cells": [
    {
      "cell_type": "markdown",
      "metadata": {
        "id": "view-in-github",
        "colab_type": "text"
      },
      "source": [
        "<a href=\"https://colab.research.google.com/github/edierbravo/colab/blob/main/RED_NEURNONAL_CONVOLUCIONAL.ipynb\" target=\"_parent\"><img src=\"https://colab.research.google.com/assets/colab-badge.svg\" alt=\"Open In Colab\"/></a>"
      ]
    },
    {
      "cell_type": "code",
      "execution_count": null,
      "metadata": {
        "id": "CCpW9sXsnHvU"
      },
      "outputs": [],
      "source": [
        "!pip install tensorflow"
      ]
    },
    {
      "cell_type": "code",
      "execution_count": 40,
      "metadata": {
        "id": "pCZB1u7sA6xM"
      },
      "outputs": [],
      "source": [
        "import numpy as np\n",
        "import pandas as pd\n",
        "from sklearn.model_selection import train_test_split\n",
        "from sklearn.preprocessing import StandardScaler\n",
        "from tensorflow.keras.models import Sequential\n",
        "from tensorflow.keras.layers import Dense, Dropout, BatchNormalization\n",
        "from tensorflow.keras.utils import to_categorical\n",
        "from tensorflow.keras.callbacks import EarlyStopping\n",
        "from tensorflow.keras.layers import Input\n",
        "from tensorflow.keras.optimizers import Adam"
      ]
    },
    {
      "cell_type": "code",
      "execution_count": 41,
      "metadata": {
        "id": "SahwJhJEFewc"
      },
      "outputs": [],
      "source": [
        "# Cargar y preprocesar los datos\n",
        "df = pd.read_csv('/content/dataset.csv')\n",
        "\n",
        "# Codificar 'container' usando one-hot encoding\n",
        "df_container_encoded = pd.get_dummies(df['container'], prefix='container')\n",
        "df = pd.concat([df, df_container_encoded], axis=1)\n",
        "df.drop('container', axis=1, inplace=True)"
      ]
    },
    {
      "cell_type": "code",
      "execution_count": 42,
      "metadata": {
        "id": "H8npxl5HGWC4"
      },
      "outputs": [],
      "source": [
        "# Definir las etiquetas basadas en umbrales\n",
        "def categorize_resource_state(row):\n",
        "    cpu_usage = row['cpu-usage']\n",
        "    memory_usage = row['memory-usage']\n",
        "    cpu_limit = row['cpu-limit']\n",
        "    memory_limit = row['memory-limit']\n",
        "    cpu_request = row['cpu-request']\n",
        "    memory_request = row['memory-request']\n",
        "\n",
        "    # Convertir uso de CPU y memoria a porcentaje\n",
        "    cpu_usage_percentage = cpu_usage / cpu_limit\n",
        "    memory_usage_percentage = memory_usage / memory_limit\n",
        "\n",
        "    # Porcentajes de solicitud\n",
        "    cpu_request_percentage = row['cpu-request'] / cpu_limit\n",
        "    memory_request_percentage = row['memory-request'] / memory_limit\n",
        "\n",
        "    # Definir umbrales para clasificación\n",
        "    if cpu_usage_percentage > 0.9 or memory_usage_percentage > 0.9 or cpu_request_percentage > 0.9 or memory_request_percentage > 0.9:\n",
        "        return 'Crítico'\n",
        "    elif cpu_usage_percentage > 0.7 or memory_usage_percentage > 0.7 or cpu_request_percentage > 0.7 or memory_request_percentage > 0.7:\n",
        "        return 'Advertencia'\n",
        "    else:\n",
        "        return 'Normal'\n",
        "\n",
        "df['state'] = df.apply(categorize_resource_state, axis=1)\n",
        "\n",
        "# Codificar las etiquetas\n",
        "labels = df['state'].unique()\n",
        "df['state'] = df['state'].astype('category').cat.codes\n",
        "num_classes = len(labels)"
      ]
    },
    {
      "cell_type": "code",
      "execution_count": 43,
      "metadata": {
        "id": "Ft63gM-YGnb6"
      },
      "outputs": [],
      "source": [
        "# Seleccionar características\n",
        "features = df[['cpu-limit', 'cpu-request', 'cpu-usage', 'memory-limit', 'memory-request', 'memory-usage', 'receive-packets', 'receive-packets-dropped', 'total-packets', 'total-packets-dropped', 'transmit-packets', 'transmit-packets-dropped'] + list(df.filter(regex='^container_'))]\n",
        "# Normalizar características\n",
        "scaler = StandardScaler()\n",
        "features_scaled = scaler.fit_transform(features)"
      ]
    },
    {
      "cell_type": "code",
      "source": [
        "# Dividir los datos en conjunto de entrenamiento y prueba\n",
        "X_train, X_test, y_train, y_test = train_test_split(features_scaled, df['state'], test_size=0.2, random_state=42)\n",
        "\n",
        "# Convertir las etiquetas a formato categórico\n",
        "y_train = to_categorical(y_train, num_classes=num_classes)\n",
        "y_test = to_categorical(y_test, num_classes=num_classes)\n",
        "\n",
        "# Definir el modelo\n",
        "model = Sequential([\n",
        "    Dense(128, activation='relu', input_shape=(X_train.shape[1],)),  # Primera capa oculta\n",
        "    BatchNormalization(),\n",
        "    Dropout(0.5),\n",
        "    Dense(64, activation='relu'),  # Segunda capa oculta\n",
        "    BatchNormalization(),\n",
        "    Dropout(0.5),\n",
        "    Dense(32, activation='relu'),  # Capa oculta final\n",
        "    Dense(num_classes, activation='softmax')  # Capa de salida\n",
        "])\n"
      ],
      "metadata": {
        "colab": {
          "base_uri": "https://localhost:8080/"
        },
        "id": "djqXk5LoIpL-",
        "outputId": "b21401b1-d7bb-42d3-d648-5139a5bd4ba6"
      },
      "execution_count": 55,
      "outputs": [
        {
          "output_type": "stream",
          "name": "stderr",
          "text": [
            "/usr/local/lib/python3.10/dist-packages/keras/src/layers/core/dense.py:87: UserWarning: Do not pass an `input_shape`/`input_dim` argument to a layer. When using Sequential models, prefer using an `Input(shape)` object as the first layer in the model instead.\n",
            "  super().__init__(activity_regularizer=activity_regularizer, **kwargs)\n"
          ]
        }
      ]
    },
    {
      "cell_type": "code",
      "source": [
        "# Compilar el modelo\n",
        "optimizer = Adam(learning_rate=0.001)\n",
        "model.compile(optimizer=optimizer, loss='categorical_crossentropy', metrics=['accuracy'])\n",
        "\n",
        "# Usar EarlyStopping para evitar el sobreajuste\n",
        "early_stopping = EarlyStopping(monitor='val_loss', patience=3)"
      ],
      "metadata": {
        "id": "-9maIBjhIr7A"
      },
      "execution_count": 56,
      "outputs": []
    },
    {
      "cell_type": "code",
      "source": [
        "# Entrenar el modelo\n",
        "history = model.fit(X_train, y_train, epochs=20, batch_size=32, validation_split=0.2, callbacks=[early_stopping])"
      ],
      "metadata": {
        "colab": {
          "base_uri": "https://localhost:8080/"
        },
        "id": "sssOZHulIxmX",
        "outputId": "a2da5788-a7b2-4f27-dfb9-5463b9aa8c30"
      },
      "execution_count": 58,
      "outputs": [
        {
          "output_type": "stream",
          "name": "stdout",
          "text": [
            "Epoch 1/20\n",
            "\u001b[1m201/201\u001b[0m \u001b[32m━━━━━━━━━━━━━━━━━━━━\u001b[0m\u001b[37m\u001b[0m \u001b[1m1s\u001b[0m 3ms/step - accuracy: 0.9928 - loss: 0.0323 - val_accuracy: 0.9963 - val_loss: 0.0152\n",
            "Epoch 2/20\n",
            "\u001b[1m201/201\u001b[0m \u001b[32m━━━━━━━━━━━━━━━━━━━━\u001b[0m\u001b[37m\u001b[0m \u001b[1m1s\u001b[0m 3ms/step - accuracy: 0.9940 - loss: 0.0250 - val_accuracy: 0.9969 - val_loss: 0.0144\n",
            "Epoch 3/20\n",
            "\u001b[1m201/201\u001b[0m \u001b[32m━━━━━━━━━━━━━━━━━━━━\u001b[0m\u001b[37m\u001b[0m \u001b[1m1s\u001b[0m 2ms/step - accuracy: 0.9945 - loss: 0.0259 - val_accuracy: 0.9969 - val_loss: 0.0128\n",
            "Epoch 4/20\n",
            "\u001b[1m201/201\u001b[0m \u001b[32m━━━━━━━━━━━━━━━━━━━━\u001b[0m\u001b[37m\u001b[0m \u001b[1m1s\u001b[0m 2ms/step - accuracy: 0.9966 - loss: 0.0124 - val_accuracy: 0.9969 - val_loss: 0.0143\n",
            "Epoch 5/20\n",
            "\u001b[1m201/201\u001b[0m \u001b[32m━━━━━━━━━━━━━━━━━━━━\u001b[0m\u001b[37m\u001b[0m \u001b[1m0s\u001b[0m 2ms/step - accuracy: 0.9952 - loss: 0.0197 - val_accuracy: 0.9963 - val_loss: 0.0142\n",
            "Epoch 6/20\n",
            "\u001b[1m201/201\u001b[0m \u001b[32m━━━━━━━━━━━━━━━━━━━━\u001b[0m\u001b[37m\u001b[0m \u001b[1m0s\u001b[0m 2ms/step - accuracy: 0.9964 - loss: 0.0154 - val_accuracy: 0.9969 - val_loss: 0.0111\n",
            "Epoch 7/20\n",
            "\u001b[1m201/201\u001b[0m \u001b[32m━━━━━━━━━━━━━━━━━━━━\u001b[0m\u001b[37m\u001b[0m \u001b[1m1s\u001b[0m 3ms/step - accuracy: 0.9963 - loss: 0.0123 - val_accuracy: 0.9969 - val_loss: 0.0104\n",
            "Epoch 8/20\n",
            "\u001b[1m201/201\u001b[0m \u001b[32m━━━━━━━━━━━━━━━━━━━━\u001b[0m\u001b[37m\u001b[0m \u001b[1m0s\u001b[0m 2ms/step - accuracy: 0.9972 - loss: 0.0122 - val_accuracy: 0.9969 - val_loss: 0.0134\n",
            "Epoch 9/20\n",
            "\u001b[1m201/201\u001b[0m \u001b[32m━━━━━━━━━━━━━━━━━━━━\u001b[0m\u001b[37m\u001b[0m \u001b[1m1s\u001b[0m 3ms/step - accuracy: 0.9963 - loss: 0.0116 - val_accuracy: 0.9981 - val_loss: 0.0091\n",
            "Epoch 10/20\n",
            "\u001b[1m201/201\u001b[0m \u001b[32m━━━━━━━━━━━━━━━━━━━━\u001b[0m\u001b[37m\u001b[0m \u001b[1m1s\u001b[0m 3ms/step - accuracy: 0.9974 - loss: 0.0097 - val_accuracy: 0.9969 - val_loss: 0.0114\n",
            "Epoch 11/20\n",
            "\u001b[1m201/201\u001b[0m \u001b[32m━━━━━━━━━━━━━━━━━━━━\u001b[0m\u001b[37m\u001b[0m \u001b[1m1s\u001b[0m 3ms/step - accuracy: 0.9954 - loss: 0.0098 - val_accuracy: 0.9975 - val_loss: 0.0088\n",
            "Epoch 12/20\n",
            "\u001b[1m201/201\u001b[0m \u001b[32m━━━━━━━━━━━━━━━━━━━━\u001b[0m\u001b[37m\u001b[0m \u001b[1m1s\u001b[0m 2ms/step - accuracy: 0.9960 - loss: 0.0112 - val_accuracy: 0.9975 - val_loss: 0.0095\n",
            "Epoch 13/20\n",
            "\u001b[1m201/201\u001b[0m \u001b[32m━━━━━━━━━━━━━━━━━━━━\u001b[0m\u001b[37m\u001b[0m \u001b[1m1s\u001b[0m 3ms/step - accuracy: 0.9958 - loss: 0.0172 - val_accuracy: 0.9981 - val_loss: 0.0092\n",
            "Epoch 14/20\n",
            "\u001b[1m201/201\u001b[0m \u001b[32m━━━━━━━━━━━━━━━━━━━━\u001b[0m\u001b[37m\u001b[0m \u001b[1m1s\u001b[0m 3ms/step - accuracy: 0.9958 - loss: 0.0110 - val_accuracy: 0.9975 - val_loss: 0.0094\n"
          ]
        }
      ]
    },
    {
      "cell_type": "code",
      "source": [
        "# Evaluar el modelo\n",
        "test_loss, test_accuracy = model.evaluate(X_test, y_test)\n",
        "print(f'Test Accuracy: {test_accuracy:.4f}')"
      ],
      "metadata": {
        "colab": {
          "base_uri": "https://localhost:8080/"
        },
        "id": "BUSJ3vEHIzyX",
        "outputId": "1f38327c-b2d8-464f-ffe2-59da6d913b7c"
      },
      "execution_count": 59,
      "outputs": [
        {
          "output_type": "stream",
          "name": "stdout",
          "text": [
            "\u001b[1m63/63\u001b[0m \u001b[32m━━━━━━━━━━━━━━━━━━━━\u001b[0m\u001b[37m\u001b[0m \u001b[1m1s\u001b[0m 9ms/step - accuracy: 0.9991 - loss: 0.0093\n",
            "Test Accuracy: 0.9995\n"
          ]
        }
      ]
    },
    {
      "cell_type": "code",
      "execution_count": 60,
      "metadata": {
        "colab": {
          "base_uri": "https://localhost:8080/"
        },
        "id": "r0dmBq3MA_xS",
        "outputId": "1f7f29bb-6b5f-442c-aac5-18bd16138003"
      },
      "outputs": [
        {
          "output_type": "stream",
          "name": "stdout",
          "text": [
            "\u001b[1m63/63\u001b[0m \u001b[32m━━━━━━━━━━━━━━━━━━━━\u001b[0m\u001b[37m\u001b[0m \u001b[1m0s\u001b[0m 4ms/step\n",
            "              precision    recall  f1-score   support\n",
            "\n",
            "      Normal       1.00      1.00      1.00       512\n",
            " Advertencia       1.00      1.00      1.00       114\n",
            "     Crítico       1.00      1.00      1.00      1382\n",
            "\n",
            "    accuracy                           1.00      2008\n",
            "   macro avg       1.00      1.00      1.00      2008\n",
            "weighted avg       1.00      1.00      1.00      2008\n",
            "\n"
          ]
        }
      ],
      "source": [
        "# Hacer predicciones\n",
        "predictions = model.predict(X_test)\n",
        "predicted_classes = np.argmax(predictions, axis=1)\n",
        "\n",
        "# Convertir etiquetas verdaderas a formato de clase\n",
        "y_test_classes = np.argmax(y_test, axis=1)\n",
        "\n",
        "# Mostrar el informe de clasificación\n",
        "from sklearn.metrics import classification_report\n",
        "print(classification_report(y_test_classes, predicted_classes, target_names=labels))"
      ]
    },
    {
      "cell_type": "code",
      "source": [
        "# Definir las columnas en el mismo orden que durante el entrenamiento\n",
        "feature_columns = [\n",
        "    'cpu-limit', 'cpu-request', 'cpu-usage', 'memory-limit', 'memory-request',\n",
        "    'memory-usage', 'receive-packets', 'receive-packets-dropped',\n",
        "    'total-packets', 'total-packets-dropped', 'transmit-packets',\n",
        "    'transmit-packets-dropped', 'container_amf1', 'container_amf2',\n",
        "    'container_ausf', 'container_mongodb', 'container_nrf', 'container_nssf',\n",
        "    'container_nwdaf-anlf', 'container_nwdaf-mtlf', 'container_pcf', 'container_smf1',\n",
        "    'container_udm','container_udr', 'container_upf1'\n",
        "]\n",
        "\n",
        "# Supongamos que el modelo y el scaler ya están definidos y entrenados\n",
        "\n",
        "# Datos del nuevo dato a probar\n",
        "new_data = {\n",
        "    'cpu-limit': 0.1,\n",
        "    'cpu-request': 0.03,\n",
        "    'cpu-usage': 0.0,\n",
        "    'memory-limit': 500800900,\n",
        "    'memory-request': 100800600,\n",
        "    'memory-usage': 100300100,\n",
        "    'receive-packets': 0.1,\n",
        "    'receive-packets-dropped': 0,\n",
        "    'total-packets': 0.1,\n",
        "    'total-packets-dropped': 0,\n",
        "    'transmit-packets': 0,\n",
        "    'transmit-packets-dropped': 0,\n",
        "    # Asegúrate de incluir columnas codificadas para 'container' si es necesario\n",
        "    # Por ejemplo:\n",
        "    # 'container_amf1': 1,\n",
        "    # 'container_other': 0\n",
        "    'container_amf1': 0,\n",
        "    'container_amf2': 0,\n",
        "    'container_ausf': 0,\n",
        "    'container_mongodb': 0,\n",
        "    'container_nrf': 0,\n",
        "    'container_nssf': 0,\n",
        "    'container_nwdaf-anlf':0,\n",
        "    'container_nwdaf-mtlf':0,\n",
        "    'container_pcf': 0,\n",
        "    'container_smf1': 0,\n",
        "    'container_udm': 0,\n",
        "    'container_udr': 0,\n",
        "    'container_upf1': 1\n",
        "}\n",
        "\n",
        "#  Crear un DataFrame para el nuevo dato con las columnas en el mismo orden\n",
        "new_data_df = pd.DataFrame([new_data], columns=feature_columns)"
      ],
      "metadata": {
        "id": "smOPKq4KJHxc"
      },
      "execution_count": 72,
      "outputs": []
    },
    {
      "cell_type": "code",
      "source": [
        "# Normalizar el nuevo dato\n",
        "new_data_scaled = scaler.fit_transform(new_data_df)\n",
        "# new_data_scaled = scaler.transform(new_data_df)\n",
        "\n",
        "# Hacer la predicción\n",
        "prediction = model.predict(new_data_scaled)\n",
        "\n",
        "# Obtener la clase predicha\n",
        "predicted_class = np.argmax(prediction, axis=1)\n",
        "\n",
        "# Convertir la clase predicha a una etiqueta\n",
        "predicted_label = labels[predicted_class[0]]\n",
        "\n",
        "print(f'Prediccion: {predicted_label}')"
      ],
      "metadata": {
        "colab": {
          "base_uri": "https://localhost:8080/"
        },
        "id": "IFyjwAB4JBj3",
        "outputId": "55e0a3ad-02a6-42d5-e8c3-381908cfcd9e"
      },
      "execution_count": 73,
      "outputs": [
        {
          "output_type": "stream",
          "name": "stdout",
          "text": [
            "\u001b[1m1/1\u001b[0m \u001b[32m━━━━━━━━━━━━━━━━━━━━\u001b[0m\u001b[37m\u001b[0m \u001b[1m0s\u001b[0m 18ms/step\n",
            "Prediccion: Crítico\n"
          ]
        }
      ]
    }
  ],
  "metadata": {
    "accelerator": "GPU",
    "colab": {
      "gpuType": "T4",
      "provenance": [],
      "include_colab_link": true
    },
    "kernelspec": {
      "display_name": "Python 3",
      "name": "python3"
    },
    "language_info": {
      "name": "python"
    }
  },
  "nbformat": 4,
  "nbformat_minor": 0
}